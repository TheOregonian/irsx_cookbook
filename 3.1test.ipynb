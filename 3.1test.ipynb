{
 "cells": [
  {
   "cell_type": "code",
   "execution_count": 1,
   "metadata": {},
   "outputs": [],
   "source": [
    "output_streams = {\n",
    "    'related': {\n",
    "        'filename':'filer_related',\n",
    "        'headers':['org_id','related_id','related_name']\n",
    "    }\n",
    "}\n",
    "\n",
    "# The format we're using is this\n",
    "# The stream_key used must be defined in the output stream above.\n",
    "\n",
    "data_capture_dict = {\n",
    "    'IRS990ScheduleR': {\n",
    "        'groups': {\n",
    "            'SkdRIdRltdTxExmptOrg': {\n",
    "                'stream_key': 'related',\n",
    "                'ein': {'header':'org_id'},\n",
    "                'IdRltdTxExmptOrg_EIN': {'header':'related_id'},\n",
    "                'DsrgrddEnttyNm_BsnssNmLn1Txt': {'header': 'related_name'}\n",
    "            }\n",
    "        }\n",
    "    }\n",
    "}"
   ]
  },
  {
   "cell_type": "code",
   "execution_count": 2,
   "metadata": {},
   "outputs": [
    {
     "name": "stdout",
     "output_type": "stream",
     "text": [
      "Initializing output stream filer_related2018.csv\n"
     ]
    }
   ],
   "source": [
    "from stream_extractor import StreamExtractor\n",
    "import unicodecsv as csv\n",
    "from irsx.xmlrunner import XMLRunner\n",
    "import pandas as pd\n",
    "\n",
    "YEAR = 2018  # THIS MUST AGREE WITH OUR OTHER DATA\n",
    "extractor = StreamExtractor(output_streams, data_capture_dict, YEAR)\n",
    "\n",
    "\n",
    "# read the whole file of orgs with efilings from part 1 here, it's not very long\n",
    "file_rows = []\n",
    "ez_rows = []\n",
    "# We're using the output of part 1\n",
    "with open('orefilers.csv', 'rb') as infile:\n",
    "    reader = csv.DictReader(infile)\n",
    "    for row in reader:\n",
    "        file_rows.append(row)\n",
    "\n",
    "            "
   ]
  },
  {
   "cell_type": "code",
   "execution_count": 3,
   "metadata": {},
   "outputs": [
    {
     "name": "stdout",
     "output_type": "stream",
     "text": [
      "Processed 100 filings\n",
      "Processed 200 filings\n",
      "Processed 300 filings\n",
      "Processed 400 filings\n",
      "Processed 500 filings\n",
      "Processed 600 filings\n",
      "Processed 700 filings\n",
      "Processed 800 filings\n",
      "Processed 900 filings\n",
      "Processed 1000 filings\n",
      "Processed 1100 filings\n",
      "Processed 1200 filings\n",
      "Processed 1300 filings\n",
      "Processed 1400 filings\n",
      "Processed 1500 filings\n",
      "Processed 1600 filings\n",
      "Processed 1700 filings\n",
      "Processed 1800 filings\n",
      "Processed 1900 filings\n",
      "Processed 2000 filings\n",
      "Processed 2100 filings\n",
      "Processed 2200 filings\n",
      "Processed 2300 filings\n",
      "Processed 2400 filings\n",
      "Processed 2500 filings\n",
      "Processed 2600 filings\n",
      "Processed 2700 filings\n",
      "Processed 2800 filings\n",
      "Processed 2900 filings\n",
      "Processed 3000 filings\n",
      "Processed 3100 filings\n",
      "Processed 3200 filings\n",
      "Processed 3300 filings\n",
      "Processed 3400 filings\n",
      "Processed 3500 filings\n",
      "Processed 3600 filings\n",
      "Processed 3700 filings\n",
      "Processed 3800 filings\n",
      "Processed 3900 filings\n",
      "Processed 4000 filings\n",
      "Processed 4100 filings\n",
      "Processed 4200 filings\n",
      "Processed 4300 filings\n",
      "Processed 4400 filings\n",
      "Processed 4500 filings\n",
      "Processed 4600 filings\n",
      "Processed 4700 filings\n",
      "Processed 4800 filings\n",
      "Processed 4900 filings\n",
      "Processed 5000 filings\n",
      "Processed 5100 filings\n",
      "Processed 5200 filings\n",
      "Processed 5300 filings\n",
      "Processed 5400 filings\n",
      "Processed 5500 filings\n",
      "Processed 5600 filings\n",
      "Processed 5700 filings\n",
      "Processed 5800 filings\n",
      "Processed 5900 filings\n",
      "Processed 6000 filings\n",
      "Processed 6100 filings\n",
      "Processed 6200 filings\n",
      "Processed 6300 filings\n",
      "Processed 6400 filings\n",
      "Processed 6500 filings\n",
      "Processed 6600 filings\n",
      "Processed 6700 filings\n",
      "end\n"
     ]
    }
   ],
   "source": [
    "# extracts the data from the XMLs and puts it into the CSVs. This will take some time the first time you run it\n",
    "# as it's downloading many files. If you update frequently it will run faster\n",
    "\n",
    "for filing_count, row in enumerate(file_rows):\n",
    "    this_object_id = row['OBJECT_ID']\n",
    "    extractor.run_filing(this_object_id)\n",
    "    filing_count += 1\n",
    "    if filing_count % 100 == 0:\n",
    "        print(\"Processed %s filings\" % filing_count)\n",
    "print(\"end\")"
   ]
  },
  {
   "cell_type": "code",
   "execution_count": 5,
   "metadata": {},
   "outputs": [],
   "source": [
    "#read related and drop dupes and blanks\n",
    "data = pd.read_csv(\"filer_related2018.csv\")\n",
    "related = data[data.related_id>0]\n",
    "related = related.drop_duplicates()\n",
    "related = related.astype({'related_id': 'int64'})\n",
    "\n",
    "related.head()\n",
    "related.to_csv(\"np_related_2018.csv\")"
   ]
  },
  {
   "cell_type": "code",
   "execution_count": null,
   "metadata": {},
   "outputs": [],
   "source": []
  }
 ],
 "metadata": {
  "kernelspec": {
   "display_name": "Python 3",
   "language": "python",
   "name": "python3"
  },
  "language_info": {
   "codemirror_mode": {
    "name": "ipython",
    "version": 3
   },
   "file_extension": ".py",
   "mimetype": "text/x-python",
   "name": "python",
   "nbconvert_exporter": "python",
   "pygments_lexer": "ipython3",
   "version": "3.6.1"
  }
 },
 "nbformat": 4,
 "nbformat_minor": 4
}
