{
 "cells": [
  {
   "cell_type": "markdown",
   "metadata": {},
   "source": [
    "# Dump salaries from 990EZ in OR (continuing from part 1)"
   ]
  },
  {
   "cell_type": "code",
   "execution_count": 1,
   "metadata": {},
   "outputs": [],
   "source": [
    "import unicodecsv as csv\n",
    "from irsx.xmlrunner import XMLRunner\n",
    "import pandas as pd"
   ]
  },
  {
   "cell_type": "code",
   "execution_count": null,
   "metadata": {},
   "outputs": [],
   "source": [
    "# filers = pd.read_csv(\"orefilers.csv\")\n",
    "# ez = filers[\"RETURN_TYPE\"] == \"990EZ\"\n",
    "# reader = filers[ez]\n",
    "# reader.to_csv('orefilers_ez.csv',index=False)"
   ]
  },
  {
   "cell_type": "code",
   "execution_count": 42,
   "metadata": {},
   "outputs": [],
   "source": [
    "# read the whole file of orgs with efilings from part 1 here, it's not very long\n",
    "ez_rows = [] \n",
    "# We're using the output of part 1\n",
    "with open('orefilers.csv', 'rb') as infile:\n",
    "    reader = csv.DictReader(infile)\n",
    "    for row in reader:\n",
    "        if row['RETURN_TYPE'] == \"990EZ\" or row['RETURN_TYPE'] == \"990EO\":\n",
    "            ez_rows.append(row['OBJECT_ID'])\n"
   ]
  },
  {
   "cell_type": "code",
   "execution_count": null,
   "metadata": {},
   "outputs": [],
   "source": [
    "# the name of the output file\n",
    "outfilename =\"ez_comp_1.csv\"\n",
    "outfile = open(outfilename , 'wb')\n",
    "\n",
    "# the header rows as they'll appear in the output\n",
    "headers = [\"ein\", \"object_id\", \"exec_comp\"]\n",
    "# start up a dictwriter, ignore extra rows\n",
    "dw = csv.DictWriter(outfile, headers, extrasaction='ignore')\n",
    "dw.writeheader()"
   ]
  },
  {
   "cell_type": "code",
   "execution_count": 3,
   "metadata": {},
   "outputs": [],
   "source": [
    "# get an XMLRunner -- this is what actually does the parsing\n",
    "xml_runner = XMLRunner()"
   ]
  },
  {
   "cell_type": "markdown",
   "metadata": {},
   "source": [
    "## Figure out what to extract\n",
    "\n",
    "Data from each repeating group should go to it's own file, otherwise it won't make sense.\n",
    "\n",
    "To figure out what to capture, I started by looking at schedule J: http://www.irsx.info/#IRS990ScheduleJ\n",
    "Then I went to the table details and picked the rows I wanted from the repeating group:\n",
    "http://www.irsx.info/metadata/groups/SkdJRltdOrgOffcrTrstKyEmpl.html\n",
    "\n",
    "Note that it's common for director/employee names in schedule J to get listed as businessname.\n",
    "\n",
    "Also note that IRSx checks to see if a file has been downloaded before fetching it. Running this the first time will be slow if the filings aren't already downloaded, but much faster if they've already been downloaded.\n",
    "\n",
    "-------NOTE--------\n",
    "Edited to get compensation from EZ partIV, not sked j\n"
   ]
  },
  {
   "cell_type": "code",
   "execution_count": 41,
   "metadata": {},
   "outputs": [
    {
     "data": {
      "text/plain": [
       "17709"
      ]
     },
     "execution_count": 41,
     "metadata": {},
     "output_type": "execute_result"
    }
   ],
   "source": [
    "execs = {}\n",
    "for object_id in file_rows:\n",
    "    parsed_filing = xml_runner.run_filing(object_id)\n",
    "    parsed_main = parsed_filing.get_parsed_sked('IRS990EZ')[0]\n",
    "    employee_groups = parsed_main['groups']['EZOffcrDrctrTrstEmpl']\n",
    "    exec_comp = 0\n",
    "    for employee_group in employee_groups:\n",
    "\n",
    "        comp = int(employee_group.get('CmpnstnAmt'))\n",
    "        if comp>0:\n",
    "            exec_comp += comp\n",
    "        if employee_group.get('EmplyBnftPrgrmAmt'):\n",
    "            exec_comp += int(employee_group.get('EmplyBnftPrgrmAmt'))\n",
    "        if employee_group.get('ExpnsAccntOthrAllwncAmt'):\n",
    "            exec_comp += int(employee_group.get('ExpnsAccntOthrAllwncAmt'))\n",
    "\n",
    "    execs[object_id] = exec_comp\n",
    "\n",
    "execs['201713319349200006']"
   ]
  },
  {
   "cell_type": "code",
   "execution_count": null,
   "metadata": {},
   "outputs": [],
   "source": [
    "DEMO_MAX = 40\n",
    "num_rows = 0\n",
    "\n",
    "all_rows = []\n",
    "\n",
    "for row in file_rows:\n",
    "    num_rows += 1\n",
    "    this_object_id = row['OBJECT_ID']\n",
    "    parsed_filing = xml_runner.run_filing(this_object_id)\n",
    "    \n",
    "    # if it somehow busted, just note it and continue\n",
    "    if not parsed_filing:\n",
    "        print(\"Skipping filing %s(filings with pre-2013 schemas are skipped)\\n row details: %s\" % (this_object_id, row))\n",
    "        continue \n",
    "    \n",
    "    schedule_list = parsed_filing.list_schedules()\n",
    "    exec_comp = 0\n",
    "    if 'IRS990EZ' in schedule_list:\n",
    "        \n",
    "        \n",
    "        # store the output in this dict\n",
    "        outputdata = {}\n",
    "        # assign some initial values from the input csv\n",
    "        outputdata['ein'] = row['EIN']\n",
    "        outputdata['object_id'] = row['OBJECT_ID']\n",
    "        \n",
    "        parsed_main = parsed_filing.get_parsed_sked('IRS990EZ')[0] \n",
    "        \n",
    "        # now use the table name we looked up -- that's where we find it\n",
    "        try:\n",
    "            # repeating groups are returned as an array of dicts\n",
    "            employee_groups = parsed_main['groups']['EZOffcrDrctrTrstEmpl']\n",
    "        except KeyError:\n",
    "            print(\"No EZOffcrDrctrTrstEmpl found in %s skipping\" % this_object_id)\n",
    "            continue\n",
    "          \n",
    "        # read through each employee and pull out the data we want\n",
    "        for employee_group in employee_groups:\n",
    "            \n",
    "            comp = int(employee_group.get('CmpnstnAmt'))\n",
    "            if comp>0:\n",
    "                exec_comp += comp\n",
    "            if employee_group.get('EmplyBnftPrgrmAmt'):\n",
    "                exec_comp += int(employee_group.get('EmplyBnftPrgrmAmt'))\n",
    "            if employee_group.get('ExpnsAccntOthrAllwncAmt'):\n",
    "                exec_comp += int(employee_group.get('ExpnsAccntOthrAllwncAmt'))\n",
    "\n",
    "        outputdata['exec_comp'] = exec_comp\n",
    "        all_rows.append(outputdata)\n",
    "#         dw.writerow(outputdata)\n",
    "        \n",
    "\n",
    "# Don't run endlessly during a demo:\n",
    "#     if(num_rows > DEMO_MAX):\n",
    "#        break\n",
    "\n",
    "#     if num_rows%100==0:\n",
    "#         print(\"Processed %s filings\" % num_rows)\n",
    "        \n",
    "# close the outfile\n",
    "# outfile.close()\n",
    "\n",
    "# print(\"end\")"
   ]
  },
  {
   "cell_type": "code",
   "execution_count": null,
   "metadata": {},
   "outputs": [],
   "source": [
    "s = next((item for item in all_rows if item[\"ein\"] == \"814325149\"), False)\n",
    "print(s['exec_comp'])"
   ]
  },
  {
   "cell_type": "code",
   "execution_count": null,
   "metadata": {},
   "outputs": [],
   "source": []
  }
 ],
 "metadata": {
  "kernelspec": {
   "display_name": "Python 3",
   "language": "python",
   "name": "python3"
  },
  "language_info": {
   "codemirror_mode": {
    "name": "ipython",
    "version": 3
   },
   "file_extension": ".py",
   "mimetype": "text/x-python",
   "name": "python",
   "nbconvert_exporter": "python",
   "pygments_lexer": "ipython3",
   "version": "3.6.1"
  }
 },
 "nbformat": 4,
 "nbformat_minor": 2
}
